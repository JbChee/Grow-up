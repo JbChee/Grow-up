{
 "cells": [
  {
   "cell_type": "markdown",
   "metadata": {},
   "source": [
    "更多课程请关注：http://edu.51cto.com/lecturer/index/user_id-12330098.html<br>\n",
    "QQ群：616043628<br>\n",
    "微信公众号：深度学习与神经网络<br>\n",
    "<img src=\"http://mp.weixin.qq.com/mp/qrcode?scene=10000004&size=102&__biz=MzIxMDQ3NzQ0Ng==\"\n",
    "style=\"width:150px;height:150px;float:left\">"
   ]
  },
  {
   "cell_type": "code",
   "execution_count": 1,
   "metadata": {
    "collapsed": true
   },
   "outputs": [],
   "source": [
    "import numpy as np"
   ]
  },
  {
   "cell_type": "code",
   "execution_count": 2,
   "metadata": {
    "collapsed": false
   },
   "outputs": [
    {
     "name": "stdout",
     "output_type": "stream",
     "text": [
      "[[ 0.42401878  0.42235789 -0.34470316  0.95723034]\n",
      " [-0.67478839  0.90315422 -0.4601116   0.06491045]\n",
      " [ 0.19164358  0.26754708 -0.1883737   0.56186385]]\n",
      "[[-0.59738494]\n",
      " [-0.8307738 ]\n",
      " [ 0.72352953]\n",
      " [ 0.79658215]]\n"
     ]
    }
   ],
   "source": [
    "#输入数据\n",
    "X = np.array([[1,0,0],\n",
    "              [1,0,1],\n",
    "              [1,1,0],\n",
    "              [1,1,1]])\n",
    "#标签\n",
    "Y = np.array([[0,1,1,0]])\n",
    "#权值初始化，取值范围-1到1\n",
    "V = np.random.random((3,4))*2-1 \n",
    "W = np.random.random((4,1))*2-1\n",
    "print(V)\n",
    "print(W)\n",
    "#学习率设置\n",
    "lr = 0.11\n",
    "\n",
    "def sigmoid(x):\n",
    "    return 1/(1+np.exp(-x))\n",
    "\n",
    "def dsigmoid(x):\n",
    "    return x*(1-x)\n",
    "\n",
    "def update():\n",
    "    global X,Y,W,V,lr\n",
    "    \n",
    "    L1 = sigmoid(np.dot(X,V))#隐藏层输出(4,4)\n",
    "    L2 = sigmoid(np.dot(L1,W))#输出层输出(4,1)\n",
    "    \n",
    "    L2_delta = (Y.T - L2)*dsigmoid(L2)\n",
    "    L1_delta = L2_delta.dot(W.T)*dsigmoid(L1)\n",
    "    \n",
    "    W_C = lr*L1.T.dot(L2_delta)\n",
    "    V_C = lr*X.T.dot(L1_delta)\n",
    "    \n",
    "    W = W + W_C\n",
    "    V = V + V_C"
   ]
  },
  {
   "cell_type": "code",
   "execution_count": 3,
   "metadata": {
    "collapsed": false
   },
   "outputs": [
    {
     "name": "stdout",
     "output_type": "stream",
     "text": [
      "Error: 0.501081511208\n",
      "Error: 0.497986166485\n",
      "Error: 0.491947171292\n",
      "Error: 0.467299538344\n",
      "Error: 0.376507109212\n",
      "Error: 0.253339266985\n",
      "Error: 0.176367622003\n",
      "Error: 0.134224330585\n",
      "Error: 0.10898297383\n",
      "Error: 0.0923802347072\n",
      "Error: 0.0806602551864\n",
      "Error: 0.0719428458153\n",
      "Error: 0.0651966939017\n",
      "Error: 0.0598125835622\n",
      "Error: 0.0554086529673\n",
      "Error: 0.0517337772589\n",
      "Error: 0.0486161579598\n",
      "Error: 0.0459343263304\n",
      "Error: 0.0435999695628\n",
      "Error: 0.0415473286499\n",
      "Error: 0.03972641622\n",
      "Error: 0.0380985421867\n",
      "Error: 0.0366332812834\n",
      "Error: 0.0353063684266\n",
      "Error: 0.0340982069038\n",
      "Error: 0.0329927908378\n",
      "Error: 0.0319769136035\n",
      "Error: 0.0310395773542\n",
      "Error: 0.0301715464136\n",
      "Error: 0.0293650051842\n",
      "Error: 0.0286132930649\n",
      "Error: 0.0279106968487\n",
      "Error: 0.0272522865378\n",
      "Error: 0.026633784316\n",
      "Error: 0.0260514591013\n",
      "Error: 0.0255020410215\n",
      "Error: 0.0249826515424\n",
      "Error: 0.024490745996\n",
      "Error: 0.0240240660063\n",
      "Error: 0.0235805998736\n",
      "[[ 0.01504111]\n",
      " [ 0.97501612]\n",
      " [ 0.97607673]\n",
      " [ 0.02868923]]\n",
      "0\n",
      "1\n",
      "1\n",
      "0\n"
     ]
    }
   ],
   "source": [
    "for i in range(20000):\n",
    "    update()#更新权值\n",
    "    if i%500==0:\n",
    "        L1 = sigmoid(np.dot(X,V))#隐藏层输出(4,4)\n",
    "        L2 = sigmoid(np.dot(L1,W))#输出层输出(4,1)\n",
    "        print('Error:',np.mean(np.abs(Y.T-L2)))\n",
    "        \n",
    "L1 = sigmoid(np.dot(X,V))#隐藏层输出(4,4)\n",
    "L2 = sigmoid(np.dot(L1,W))#输出层输出(4,1)\n",
    "print(L2)\n",
    "\n",
    "def judge(x):\n",
    "    if x>=0.5:\n",
    "        return 1\n",
    "    else:\n",
    "        return 0\n",
    "\n",
    "for i in map(judge,L2):\n",
    "    print(i)"
   ]
  },
  {
   "cell_type": "code",
   "execution_count": null,
   "metadata": {
    "collapsed": true
   },
   "outputs": [],
   "source": []
  }
 ],
 "metadata": {
  "kernelspec": {
   "display_name": "Python 3",
   "language": "python",
   "name": "python3"
  },
  "language_info": {
   "codemirror_mode": {
    "name": "ipython",
    "version": 3
   },
   "file_extension": ".py",
   "mimetype": "text/x-python",
   "name": "python",
   "nbconvert_exporter": "python",
   "pygments_lexer": "ipython3",
   "version": "3.6.0"
  }
 },
 "nbformat": 4,
 "nbformat_minor": 1
}
