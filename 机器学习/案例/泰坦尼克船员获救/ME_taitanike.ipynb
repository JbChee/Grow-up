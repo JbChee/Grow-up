{
 "cells": [
  {
   "cell_type": "markdown",
   "metadata": {},
   "source": [
    "### 导入数据，简单查看数据"
   ]
  },
  {
   "cell_type": "code",
   "execution_count": 14,
   "metadata": {
    "collapsed": false
   },
   "outputs": [
    {
     "data": {
      "text/html": [
       "<div>\n",
       "<table border=\"1\" class=\"dataframe\">\n",
       "  <thead>\n",
       "    <tr style=\"text-align: right;\">\n",
       "      <th></th>\n",
       "      <th>PassengerId</th>\n",
       "      <th>Survived</th>\n",
       "      <th>Pclass</th>\n",
       "      <th>Name</th>\n",
       "      <th>Sex</th>\n",
       "      <th>Age</th>\n",
       "      <th>SibSp</th>\n",
       "      <th>Parch</th>\n",
       "      <th>Ticket</th>\n",
       "      <th>Fare</th>\n",
       "      <th>Cabin</th>\n",
       "      <th>Embarked</th>\n",
       "    </tr>\n",
       "  </thead>\n",
       "  <tbody>\n",
       "    <tr>\n",
       "      <th>0</th>\n",
       "      <td>1</td>\n",
       "      <td>0</td>\n",
       "      <td>3</td>\n",
       "      <td>Braund, Mr. Owen Harris</td>\n",
       "      <td>male</td>\n",
       "      <td>22.0</td>\n",
       "      <td>1</td>\n",
       "      <td>0</td>\n",
       "      <td>A/5 21171</td>\n",
       "      <td>7.2500</td>\n",
       "      <td>NaN</td>\n",
       "      <td>S</td>\n",
       "    </tr>\n",
       "    <tr>\n",
       "      <th>1</th>\n",
       "      <td>2</td>\n",
       "      <td>1</td>\n",
       "      <td>1</td>\n",
       "      <td>Cumings, Mrs. John Bradley (Florence Briggs Th...</td>\n",
       "      <td>female</td>\n",
       "      <td>38.0</td>\n",
       "      <td>1</td>\n",
       "      <td>0</td>\n",
       "      <td>PC 17599</td>\n",
       "      <td>71.2833</td>\n",
       "      <td>C85</td>\n",
       "      <td>C</td>\n",
       "    </tr>\n",
       "    <tr>\n",
       "      <th>2</th>\n",
       "      <td>3</td>\n",
       "      <td>1</td>\n",
       "      <td>3</td>\n",
       "      <td>Heikkinen, Miss. Laina</td>\n",
       "      <td>female</td>\n",
       "      <td>26.0</td>\n",
       "      <td>0</td>\n",
       "      <td>0</td>\n",
       "      <td>STON/O2. 3101282</td>\n",
       "      <td>7.9250</td>\n",
       "      <td>NaN</td>\n",
       "      <td>S</td>\n",
       "    </tr>\n",
       "    <tr>\n",
       "      <th>3</th>\n",
       "      <td>4</td>\n",
       "      <td>1</td>\n",
       "      <td>1</td>\n",
       "      <td>Futrelle, Mrs. Jacques Heath (Lily May Peel)</td>\n",
       "      <td>female</td>\n",
       "      <td>35.0</td>\n",
       "      <td>1</td>\n",
       "      <td>0</td>\n",
       "      <td>113803</td>\n",
       "      <td>53.1000</td>\n",
       "      <td>C123</td>\n",
       "      <td>S</td>\n",
       "    </tr>\n",
       "    <tr>\n",
       "      <th>4</th>\n",
       "      <td>5</td>\n",
       "      <td>0</td>\n",
       "      <td>3</td>\n",
       "      <td>Allen, Mr. William Henry</td>\n",
       "      <td>male</td>\n",
       "      <td>35.0</td>\n",
       "      <td>0</td>\n",
       "      <td>0</td>\n",
       "      <td>373450</td>\n",
       "      <td>8.0500</td>\n",
       "      <td>NaN</td>\n",
       "      <td>S</td>\n",
       "    </tr>\n",
       "  </tbody>\n",
       "</table>\n",
       "</div>"
      ],
      "text/plain": [
       "   PassengerId  Survived  Pclass  \\\n",
       "0            1         0       3   \n",
       "1            2         1       1   \n",
       "2            3         1       3   \n",
       "3            4         1       1   \n",
       "4            5         0       3   \n",
       "\n",
       "                                                Name     Sex   Age  SibSp  \\\n",
       "0                            Braund, Mr. Owen Harris    male  22.0      1   \n",
       "1  Cumings, Mrs. John Bradley (Florence Briggs Th...  female  38.0      1   \n",
       "2                             Heikkinen, Miss. Laina  female  26.0      0   \n",
       "3       Futrelle, Mrs. Jacques Heath (Lily May Peel)  female  35.0      1   \n",
       "4                           Allen, Mr. William Henry    male  35.0      0   \n",
       "\n",
       "   Parch            Ticket     Fare Cabin Embarked  \n",
       "0      0         A/5 21171   7.2500   NaN        S  \n",
       "1      0          PC 17599  71.2833   C85        C  \n",
       "2      0  STON/O2. 3101282   7.9250   NaN        S  \n",
       "3      0            113803  53.1000  C123        S  \n",
       "4      0            373450   8.0500   NaN        S  "
      ]
     },
     "execution_count": 14,
     "metadata": {},
     "output_type": "execute_result"
    }
   ],
   "source": [
    "import pandas as pd\n",
    "titanic = pd.read_csv('titanic_train.csv')\n",
    "titanic.head(5)"
   ]
  },
  {
   "cell_type": "code",
   "execution_count": 15,
   "metadata": {
    "collapsed": false
   },
   "outputs": [
    {
     "name": "stdout",
     "output_type": "stream",
     "text": [
      "       PassengerId    Survived      Pclass         Age       SibSp  \\\n",
      "count   891.000000  891.000000  891.000000  714.000000  891.000000   \n",
      "mean    446.000000    0.383838    2.308642   29.699118    0.523008   \n",
      "std     257.353842    0.486592    0.836071   14.526497    1.102743   \n",
      "min       1.000000    0.000000    1.000000    0.420000    0.000000   \n",
      "25%     223.500000    0.000000    2.000000   20.125000    0.000000   \n",
      "50%     446.000000    0.000000    3.000000   28.000000    0.000000   \n",
      "75%     668.500000    1.000000    3.000000   38.000000    1.000000   \n",
      "max     891.000000    1.000000    3.000000   80.000000    8.000000   \n",
      "\n",
      "            Parch        Fare  \n",
      "count  891.000000  891.000000  \n",
      "mean     0.381594   32.204208  \n",
      "std      0.806057   49.693429  \n",
      "min      0.000000    0.000000  \n",
      "25%      0.000000    7.910400  \n",
      "50%      0.000000   14.454200  \n",
      "75%      0.000000   31.000000  \n",
      "max      6.000000  512.329200  \n"
     ]
    }
   ],
   "source": [
    "#查看数据\n",
    "print(titanic.describe())"
   ]
  },
  {
   "cell_type": "code",
   "execution_count": 16,
   "metadata": {
    "collapsed": false
   },
   "outputs": [
    {
     "name": "stdout",
     "output_type": "stream",
     "text": [
      "       PassengerId    Survived      Pclass         Age       SibSp  \\\n",
      "count   891.000000  891.000000  891.000000  891.000000  891.000000   \n",
      "mean    446.000000    0.383838    2.308642   29.361582    0.523008   \n",
      "std     257.353842    0.486592    0.836071   13.019697    1.102743   \n",
      "min       1.000000    0.000000    1.000000    0.420000    0.000000   \n",
      "25%     223.500000    0.000000    2.000000   22.000000    0.000000   \n",
      "50%     446.000000    0.000000    3.000000   28.000000    0.000000   \n",
      "75%     668.500000    1.000000    3.000000   35.000000    1.000000   \n",
      "max     891.000000    1.000000    3.000000   80.000000    8.000000   \n",
      "\n",
      "            Parch        Fare  \n",
      "count  891.000000  891.000000  \n",
      "mean     0.381594   32.204208  \n",
      "std      0.806057   49.693429  \n",
      "min      0.000000    0.000000  \n",
      "25%      0.000000    7.910400  \n",
      "50%      0.000000   14.454200  \n",
      "75%      0.000000   31.000000  \n",
      "max      6.000000  512.329200  \n"
     ]
    }
   ],
   "source": [
    "titanic['Age'] = titanic['Age'].fillna(titanic['Age'].median())\n",
    "print(titanic.describe())"
   ]
  },
  {
   "cell_type": "code",
   "execution_count": 17,
   "metadata": {
    "collapsed": false
   },
   "outputs": [
    {
     "name": "stdout",
     "output_type": "stream",
     "text": [
      "age: [ 22.    38.    26.    35.    28.    54.     2.    27.    14.     4.    58.\n",
      "  20.    39.    55.    31.    34.    15.     8.    19.    40.    66.    42.\n",
      "  21.    18.     3.     7.    49.    29.    65.    28.5    5.    11.    45.\n",
      "  17.    32.    16.    25.     0.83  30.    33.    23.    24.    46.    59.\n",
      "  71.    37.    47.    14.5   70.5   32.5   12.     9.    36.5   51.    55.5\n",
      "  40.5   44.     1.    61.    56.    50.    36.    45.5   20.5   62.    41.\n",
      "  52.    63.    23.5    0.92  43.    60.    10.    64.    13.    48.     0.75\n",
      "  53.    57.    80.    70.    24.5    6.     0.67  30.5    0.42  34.5   74.  ]\n",
      "sex: ['male' 'female']\n",
      "embarked: ['S' 'C' 'Q' nan]\n"
     ]
    }
   ],
   "source": [
    "print('age:',titanic['Age'].unique())\n",
    "print('sex:',titanic['Sex'].unique())\n",
    "print('embarked:',titanic['Embarked'].unique())"
   ]
  },
  {
   "cell_type": "markdown",
   "metadata": {},
   "source": [
    "### 数据特征，数值化处理"
   ]
  },
  {
   "cell_type": "code",
   "execution_count": 18,
   "metadata": {
    "collapsed": false
   },
   "outputs": [
    {
     "name": "stdout",
     "output_type": "stream",
     "text": [
      "sex: [0 1]\n"
     ]
    }
   ],
   "source": [
    "#处理性别特征\n",
    "titanic.loc[titanic['Sex'] == 'male','Sex'] =0\n",
    "titanic.loc[titanic['Sex'] == 'female','Sex'] =1\n",
    "print('sex:',titanic['Sex'].unique())"
   ]
  },
  {
   "cell_type": "code",
   "execution_count": 19,
   "metadata": {
    "collapsed": false
   },
   "outputs": [
    {
     "name": "stdout",
     "output_type": "stream",
     "text": [
      "[0 1 2]\n"
     ]
    }
   ],
   "source": [
    "#处理Emabarked\n",
    "titanic['Embarked'] = titanic['Embarked'].fillna('S')\n",
    "titanic.loc[titanic['Embarked'] == 'S', 'Embarked'] = 0\n",
    "titanic.loc[titanic['Embarked'] == 'C', 'Embarked'] = 1\n",
    "titanic.loc[titanic['Embarked'] == 'Q', 'Embarked'] = 2\n",
    "print (titanic['Embarked'].unique())"
   ]
  },
  {
   "cell_type": "markdown",
   "metadata": {},
   "source": [
    "### 使用线性回归模型"
   ]
  },
  {
   "cell_type": "code",
   "execution_count": 20,
   "metadata": {
    "collapsed": false
   },
   "outputs": [
    {
     "name": "stdout",
     "output_type": "stream",
     "text": [
      "sklearn.cross_validation.KFold(n=891, n_folds=3, shuffle=False, random_state=1)\n",
      "3\n",
      "<class 'numpy.ndarray'>\n"
     ]
    }
   ],
   "source": [
    "# 导入线性分类器\n",
    "from sklearn.linear_model import LinearRegression\n",
    "from sklearn.cross_validation import KFold\n",
    "\n",
    "# The columns we'll use to predict the target\n",
    "predictors = [\"Pclass\", \"Sex\", \"Age\", \"SibSp\", \"Parch\", \"Fare\", \"Embarked\"]\n",
    "\n",
    "lr = LinearRegression()\n",
    "\n",
    "#交叉验证\n",
    "kf = KFold(titanic.shape[0], n_folds=3, random_state=1)\n",
    "print(kf)\n",
    "\n",
    "predictions = []\n",
    "for train, test in kf:\n",
    "    # The predictors we're using the train the algorithm.  Note how we only take the rows in the train folds.\n",
    "    train_predictors = (titanic[predictors].iloc[train,:])\n",
    "    \n",
    "    # The target we're using to train the algorithm.\n",
    "    train_target = titanic['Survived'].iloc[train]\n",
    "    \n",
    "    # Training the algorithm using the predictors and target.\n",
    "    lr.fit(train_predictors, train_target)\n",
    "    \n",
    "    # We can now make predictions on the test fold\n",
    "    test_predictions = lr.predict(titanic[predictors].iloc[test,:])\n",
    "    predictions.append(test_predictions)\n",
    "print(len(predictions))\n",
    "print(type(predictions[1]))\n",
    "#print(predictions)\n"
   ]
  },
  {
   "cell_type": "code",
   "execution_count": 21,
   "metadata": {
    "collapsed": true
   },
   "outputs": [
    {
     "name": "stdout",
     "output_type": "stream",
     "text": [
      "[[  8.99877810e-02   9.60756206e-01   5.92676278e-01   9.31138728e-01\n",
      "    5.29343071e-02   1.70275685e-01   3.69943590e-01   1.03474847e-01\n",
      "    5.21597906e-01   8.74491050e-01   6.48883611e-01   8.29742769e-01\n",
      "    1.34797198e-01  -1.61126844e-01   6.58141307e-01   6.39819748e-01\n",
      "    1.51733875e-01   2.95432718e-01   5.35377959e-01   6.21007683e-01\n",
      "    2.61872592e-01   2.62687561e-01   7.31739160e-01   5.05995897e-01\n",
      "    5.61398567e-01   3.35039734e-01   1.30338808e-01   4.68765767e-01\n",
      "    6.60737753e-01   9.10819218e-02   4.77223920e-01   1.04220026e+00\n",
      "    6.60691613e-01   8.71539273e-02   5.28550732e-01   4.01874338e-01\n",
      "    1.30340307e-01   1.29339672e-01   5.72717129e-01   6.65238822e-01\n",
      "    4.83215779e-01   7.60807408e-01   1.30578363e-01   8.71867121e-01\n",
      "    7.09855487e-01   9.11369897e-02   1.39181745e-01   6.60691613e-01\n",
      "    6.82833485e-02   6.06254374e-01   4.92254383e-02   1.29250392e-01\n",
      "    9.02668258e-01   7.51677954e-01   3.19636822e-01   5.05995897e-01\n",
      "    8.23411477e-01   1.27611544e-01   8.16516947e-01  -3.70209060e-02\n",
      "    1.63085464e-01   9.57981340e-01   3.96742103e-01   6.16138409e-02\n",
      "    5.42714233e-01   6.62112275e-02   7.79751268e-01   1.40293401e-01\n",
      "    4.40592742e-01   3.50534388e-02   2.72709814e-01   4.26360339e-01\n",
      "    3.55241143e-01   1.10226880e-01   8.66078358e-02   1.07366720e-01\n",
      "    9.10819218e-02   9.11369897e-02   3.82661024e-01   5.72471068e-01\n",
      "    1.24221410e-01   8.61972872e-02   6.60705005e-01   5.10138486e-01\n",
      "    8.45241581e-01   4.56477760e-01   3.22699204e-02   9.11369897e-02\n",
      "    9.37604538e-01   1.12967094e-01   8.56794636e-02   1.34727274e-01\n",
      "    3.83320807e-01   6.14970393e-03  -7.83320148e-02   9.11369897e-02\n",
      "    3.10516665e-01   5.49345421e-01   7.23544338e-01   2.33721448e-01\n",
      "    5.81750798e-01   9.10819218e-02   5.25738424e-01   6.40651310e-02\n",
      "   -2.52427240e-02   9.10819218e-02   6.19865700e-01   9.10387818e-02\n",
      "    3.65066610e-02   6.32939707e-01   4.08195377e-01   6.63657306e-01\n",
      "    1.23882146e-01   5.92491292e-01   6.83623624e-01   1.29295032e-01\n",
      "   -6.19221217e-02   2.59223480e-01   6.09655955e-01   5.30794378e-01\n",
      "    2.88023805e-01   9.11369897e-02   2.82857942e-01   7.61542726e-01\n",
      "    3.45640063e-01   1.85484998e-01   1.70022737e-01   1.12642722e-01\n",
      "    5.59420117e-01  -2.02485747e-03   1.03290733e-01   1.34440079e-01\n",
      "    4.46807623e-01   7.51677954e-01   3.11805296e-01   3.62947385e-01\n",
      "    9.75724449e-01   4.29554800e-01   1.57043954e-01   5.82928575e-01\n",
      "    5.57105476e-01   6.14443886e-01   5.72812834e-01   2.18783352e-01\n",
      "    3.49472299e-01   2.86040080e-01   9.65037360e-02   5.60916106e-01\n",
      "    1.86919710e-01   2.19027353e-01   1.69739986e-01   1.00690768e+00\n",
      "   -5.89449777e-02  -4.15452572e-02   9.08736139e-02   3.95827915e-01\n",
      "    7.26175962e-01   8.02219375e-02   9.13557255e-02  -2.22536096e-01\n",
      "   -2.66919104e-02   7.21593360e-01   1.01953834e-01   1.51388512e-01\n",
      "    8.19705948e-02   1.32518461e-01   9.70245311e-01   3.28974893e-01\n",
      "    5.02576476e-01   1.08437940e-01   3.25183297e-01   1.40818823e-01\n",
      "    6.63268211e-01   1.29295032e-01   3.90965934e-01   7.86503606e-02\n",
      "   -3.68524682e-02   9.13671691e-01   2.84517666e-01   4.46019673e-02\n",
      "    2.68132779e-01   3.35661255e-01   1.96299597e-03   3.51470400e-01\n",
      "    6.51010647e-01   5.11174133e-01   6.29850621e-01   4.10021732e-01\n",
      "    4.03081359e-02   4.74217131e-02   7.64271489e-01   3.44550453e-01\n",
      "    5.97245007e-01   3.69521460e-01   9.46062691e-01   9.12083149e-01\n",
      "    1.70022737e-01  -1.85251802e-02   6.60691613e-01   8.07931698e-01\n",
      "    9.16548133e-02  -2.22536096e-01   5.78367977e-02   3.48321010e-02\n",
      "    1.45712251e-01   6.91179799e-01   3.84837497e-02   1.45383056e-01\n",
      "    7.26181926e-01   4.78394987e-01   1.12609974e-01   7.50755869e-01\n",
      "    1.23596450e-01   2.84517666e-01   1.36414068e-01   1.01395495e+00\n",
      "    5.87218752e-01   1.90418359e-01   1.02889863e+00   2.83624866e-01\n",
      "    1.56627303e-01   3.00890244e-01  -3.43861103e-02   9.10819218e-02\n",
      "    4.37274991e-01   1.24346402e-01   3.43657653e-01   1.31782740e-01\n",
      "    3.50007979e-01   4.53816408e-01   9.41986239e-01   8.55812557e-02\n",
      "    1.26427969e-01   5.14461976e-01   3.16370023e-01   5.81627306e-01\n",
      "    1.79146187e-01   8.33217359e-01   3.43657653e-01   2.67886176e-01\n",
      "    5.89980704e-01   6.29850621e-01   2.89082393e-01   1.23551810e-01\n",
      "    1.19423755e-01   4.49914049e-01   5.98080236e-01   7.41700785e-01\n",
      "    3.95976588e-01   1.24570927e-01   9.08512939e-02   5.10217925e-01\n",
      "    3.17243789e-01   4.94880818e-02   4.48434902e-01   5.51647950e-01\n",
      "    1.05176735e+00   1.00396283e+00   1.16824364e+00   6.37295280e-01\n",
      "    1.70022737e-01   3.47081525e-02   3.23790141e-01   4.27827834e-01\n",
      "    6.60691613e-01   2.50879710e-01   1.07703504e-04   7.38026906e-02\n",
      "    8.41682429e-01   9.94221666e-01   5.04388858e-01   1.04634754e-01\n",
      "    6.84091736e-01   4.60920013e-01   6.60691613e-01   7.87205387e-01\n",
      "    4.88920786e-01   2.90790162e-01   1.24446245e-01   4.80968077e-01\n",
      "   -3.19057282e-02   9.10670657e-02   1.57145126e-01   1.40254724e-01\n",
      "    5.02603260e-01   1.03564537e-01   8.07397611e-02   1.23827078e-01\n",
      "    2.19027353e-01   6.93436769e-01   1.02306096e+00   1.07151871e+00\n",
      "    2.91224311e-01   6.03921666e-01   1.12912026e-01   5.42714233e-01\n",
      "    1.54899175e-01]\n",
      " [  1.13774791e+00   4.41732120e-01   9.85513466e-01   6.69153707e-01\n",
      "    8.25422792e-02   1.51426237e-01   8.36420139e-01   9.70452598e-02\n",
      "    6.47114810e-01   1.03845173e+00   1.06064212e+00   2.46478416e-01\n",
      "    9.83649024e-01   1.04411609e+00   1.10195734e+00   7.25963867e-01\n",
      "    9.69270903e-02   1.13884110e-01   6.08249871e-01   7.49057247e-01\n",
      "    9.04240008e-02   1.00314273e+00   9.15883676e-01   1.36798861e-01\n",
      "    1.03654869e-01   8.22964581e-01   7.55174001e-01  -2.77462854e-01\n",
      "    1.00359640e+00  -1.26360431e-01   7.08656783e-01   5.24387994e-01\n",
      "    1.06900476e+00   5.80441382e-01   3.22463312e-01   4.59047511e-01\n",
      "    8.48130973e-02   9.68383833e-01   9.69270903e-02   4.12373899e-01\n",
      "    9.69089012e-01  -1.73269800e-02   3.31191577e-01   3.89531457e-01\n",
      "    9.74554712e-01   2.64579911e-01   2.84763247e-01   2.10757680e-01\n",
      "    7.89390128e-01   6.81745667e-01   5.50818102e-01   2.11322379e-01\n",
      "    3.32573926e-03   1.31584603e-01   4.45180647e-01   1.61163882e-01\n",
      "    7.44051125e-02   1.33632653e-01   9.81564518e-02   9.89135387e-01\n",
      "    6.95201225e-01   6.69252718e-01   6.69252718e-01  -5.73228314e-02\n",
      "    2.56057591e-01   5.13061714e-01   4.91844688e-02   1.26898442e-01\n",
      "    8.29766307e-02   7.45560317e-01   6.31534974e-01   6.69153707e-01\n",
      "    1.03349593e+00   4.67953593e-01   1.12836711e-01   1.57595269e-01\n",
      "    5.99886200e-01   6.12596703e-01   9.66152920e-01   6.34697964e-01\n",
      "    6.05111298e-01   1.84993018e-01   1.57384526e-01   1.03364995e+00\n",
      "    8.00432821e-01   7.00383521e-02   8.58717774e-01   9.69270903e-02\n",
      "    3.78221229e-01   3.77154650e-02   7.08656783e-01   1.71238664e-01\n",
      "    8.72937864e-01   3.86926324e-01   1.43944908e-01  -3.64111727e-03\n",
      "    1.02362819e+00   6.09208668e-01   1.37217129e-01   5.74610977e-01\n",
      "    1.53442303e-01   2.96302956e-01   7.62210794e-01   2.29439004e-02\n",
      "    1.10500817e-01   5.93103774e-01   5.27274143e-02   6.49235976e-01\n",
      "    1.80048660e-01  -5.79235547e-02   3.77247718e-01   1.43928968e-01\n",
      "    4.47767765e-01   9.69270903e-02   1.70571259e-01   9.75733473e-01\n",
      "    2.54617499e-01  -1.06949936e-02   5.94944362e-01   6.77122843e-01\n",
      "    8.10481157e-01   2.51124353e-01   7.09106800e-01   1.34146713e-01\n",
      "    2.18336258e-01   9.01833716e-02   5.39877502e-01   1.13710536e-01\n",
      "    9.64321883e-02   7.22146132e-01   8.32991434e-01   1.71254604e-01\n",
      "    7.01341446e-02   4.38705080e-01   5.50818102e-01   6.27957229e-01\n",
      "    1.70341963e-01   2.62890713e-01   1.03283656e+00   5.42346468e-01\n",
      "    6.64292528e-01   2.88859398e-01   2.42480726e-01   5.98327655e-01\n",
      "    1.51978682e-01   6.67225606e-02   7.62479013e-01   9.70931560e-02\n",
      "    6.23281053e-01   8.58739079e-01   3.98338407e-01   6.85263852e-01\n",
      "    2.80265429e-01   1.52490249e-01   5.58822035e-02   4.63388752e-01\n",
      "    3.32283800e-01   9.70452598e-02   1.27418935e-01   1.89777264e-01\n",
      "    9.05706854e-01   6.12552031e-01   1.71254604e-01   3.04149503e-01\n",
      "    5.66785869e-02   3.20035037e-01   1.30024334e-01   9.70452598e-02\n",
      "    2.90011323e-02   2.54617499e-01   2.50327273e-01   1.71235446e-01\n",
      "    7.13856912e-01   9.64321883e-02   3.02368545e-02   6.70572687e-01\n",
      "    8.33944241e-01   6.36680867e-01   4.58208416e-01   1.80048660e-01\n",
      "    3.92526307e-02   1.37006386e-01   7.63476152e-01  -1.61067656e-02\n",
      "    2.54617499e-01  -5.09658741e-02   3.60650350e-01   4.95264011e-01\n",
      "    4.47767765e-01   8.87838669e-01   2.76505307e-01   8.35897022e-02\n",
      "    1.70955707e-01   5.58822035e-02   1.43526640e-01   2.60082092e-01\n",
      "    2.04220920e-01   1.44139712e-01   1.39175815e-01   7.88238805e-01\n",
      "    1.02447952e-01   9.83008999e-01   1.23761572e-01   1.71520210e-01\n",
      "    7.16248158e-01   6.69061133e-01   5.35572600e-01   1.06327957e+00\n",
      "    5.56015243e-01   7.19526886e-01   4.38705080e-01   1.08138022e-01\n",
      "    1.47626740e-01   1.64526825e-01   9.70452598e-02   3.84681685e-01\n",
      "    7.73780511e-01   1.23531670e-01   3.16602450e-01   7.20196492e-01\n",
      "    1.83822569e-01   6.68323902e-01   7.00159750e-02   9.74455043e-01\n",
      "    1.37293763e-01   1.33632653e-01   8.80626954e-01   1.33635872e-01\n",
      "    8.71573690e-02   6.12552031e-01   5.88316896e-01   2.29439004e-02\n",
      "    1.86840889e-01   8.87430559e-01   1.33635872e-01   1.47708324e-01\n",
      "    6.23853354e-01   5.81958187e-01   8.94640720e-01   3.24332840e-01\n",
      "    1.02157960e+00   1.01988149e-01   1.01250232e+00   8.97570091e-01\n",
      "    5.20113577e-01   5.06658019e-01   1.97335914e-01   3.38829631e-01\n",
      "    1.96083556e-01   7.82696141e-01   3.02460501e-01   1.30333344e-02\n",
      "    3.57402932e-01   5.95282551e-01   2.81270101e-01   1.71315298e-01\n",
      "    1.73999326e-01   6.35100292e-01   2.09960600e-01   7.98973665e-01\n",
      "    6.29939751e-01   8.43358119e-01   4.97992112e-01   1.71254604e-01\n",
      "    1.61937445e-02   2.64963080e-01   9.70452598e-02   5.94944362e-01\n",
      "    3.57038537e-02   1.57477100e-01   5.59646864e-01   1.33635872e-01\n",
      "    6.99840953e-02   3.39195826e-02   6.86923354e-01   3.84758319e-01\n",
      "    6.69153707e-01   1.77778606e-01   1.62538158e-01   7.22112340e-01\n",
      "    8.34795382e-01   5.86779625e-01   7.00383521e-02   7.35757004e-01\n",
      "    9.04513049e-01   9.96200729e-02   4.32505529e-01   1.34772583e-01\n",
      "    1.02529894e+00   1.38284792e-01   2.41050432e-01   1.37411933e-01\n",
      "    9.70452598e-02   4.92419442e-02   8.01694363e-01  -3.13956091e-02\n",
      "    6.49878062e-01]\n",
      " [  1.72889219e-01   1.70294715e-02   7.82616935e-01  -8.34788848e-03\n",
      "    1.47022266e-01   3.10888595e-01   7.28261340e-01   1.01479914e-01\n",
      "    4.24565622e-01   1.57316587e-02   4.37708069e-01   1.44204264e-02\n",
      "    9.07678482e-02   4.33913871e-01   8.26537251e-01   8.45262338e-01\n",
      "    5.42776171e-01   1.01763663e-01   6.70148479e-01   1.92163452e-01\n",
      "    6.39359534e-02   7.62650655e-01   3.10124701e-02   5.90024631e-01\n",
      "    8.31356231e-01   2.78648916e-01   1.08309653e-01   3.04531238e-01\n",
      "    1.50864127e-01   1.38986099e-01   1.36219795e-01   2.51197915e-01\n",
      "    2.02625887e-01   9.72357134e-01   1.12191979e-01   1.92169054e-01\n",
      "    1.50211875e-01  -2.14264992e-02   4.52451020e-01   4.38789988e-01\n",
      "    6.04820088e-01   7.89326541e-01   8.00459867e-02   2.10435721e-01\n",
      "    5.70885269e-01   5.70841743e-02   1.44342132e-01   1.00451104e+00\n",
      "    6.42312317e-01   8.51755703e-02   7.33373007e-01   3.09602117e-01\n",
      "    1.49684208e-01   3.22228832e-01   1.01595923e-01   6.50604478e-01\n",
      "    1.01479914e-01   8.45026241e-01   1.38791822e-01   7.14365273e-01\n",
      "    7.68287651e-01   1.84938938e-01   1.01479914e-01   6.54218524e-01\n",
      "    2.93878313e-01   2.96413137e-01   1.92833539e-01   8.27498735e-02\n",
      "    3.28441263e-01   5.87658439e-02   1.02674988e-01   1.42090676e-01\n",
      "    2.83166248e-01   1.01520440e-01   2.10876914e-02   9.01930011e-01\n",
      "    6.80182444e-01   3.63633521e-01   4.29834748e-02   2.51030051e-01\n",
      "    2.71459394e-01   1.55080767e-01   1.20174297e-01   6.76615822e-01\n",
      "    5.21604336e-01   2.74876851e-01   7.14261845e-01   4.63722197e-01\n",
      "    1.43882255e-01  -3.38493769e-02   5.08333972e-02   2.88240761e-01\n",
      "    4.71949096e-03   1.48920991e-01   1.55073789e-01   9.65241409e-01\n",
      "    3.61956120e-01   8.01212426e-01   8.51755703e-02   1.63090365e-01\n",
      "    2.58489938e-01   1.38385623e-01   1.57316587e-02   7.14397446e-01\n",
      "    2.98282232e-01   2.65779163e-02   9.41922468e-01   3.92478820e-01\n",
      "    7.25879907e-01   2.08234335e-01   7.05625434e-02   2.03820545e-01\n",
      "    6.98106244e-01   3.54986591e-01   9.42312534e-01   1.08182230e-01\n",
      "    1.01115214e+00   4.29882986e-01   2.72580965e-01   9.55913060e-02\n",
      "    1.38553363e-01   1.49766670e-01   8.76445205e-01   7.95521275e-01\n",
      "    1.89563479e-01   7.47402760e-02   9.05943831e-01   1.19035222e-01\n",
      "    2.34961953e-01   1.49265429e-01   3.84688624e-01   1.44070963e-01\n",
      "    6.51000458e-01   7.14396037e-01   2.37161612e-01   5.98123216e-01\n",
      "    8.84762775e-01   2.34195832e-01   2.71459394e-01   2.93878313e-01\n",
      "    2.93878313e-01   9.60495497e-02   4.82543535e-01   2.74738708e-01\n",
      "    1.01479914e-01   1.01479914e-01   4.28725578e-01   3.27845711e-01\n",
      "    8.83507841e-01   7.85083053e-02   8.54020195e-02   1.53868294e-01\n",
      "    1.25458500e-01   7.78614476e-01   4.27536886e-01   1.76095354e-01\n",
      "    8.78367308e-01   2.23270579e-01   7.41615725e-02   1.28260077e-01\n",
      "    6.34105869e-01   3.76826088e-01   1.01513462e-01   3.21161697e-01\n",
      "    6.92919862e-02   9.05219168e-01   9.92643346e-02   3.21100762e-02\n",
      "    1.89869119e-01   8.47257439e-01   1.65792833e-01   7.70032759e-01\n",
      "    4.70822280e-01   7.01001762e-01   1.45018183e-01   7.98992141e-02\n",
      "    1.22365867e-01  -5.62678525e-03   6.34840292e-01   1.47022266e-01\n",
      "    6.21554022e-01   1.55089154e-01   1.92163452e-01   7.45360827e-01\n",
      "    1.92167645e-01   8.15272492e-01   7.49589740e-01   9.59168970e-01\n",
      "    4.23369546e-01   6.56067455e-02   1.17831761e-01   1.17764665e-01\n",
      "    6.77402825e-01   1.31033823e-01   2.11184136e-01   3.61128670e-01\n",
      "    1.92163452e-01   3.27009298e-01   2.80865752e-01   4.73809464e-01\n",
      "    1.17548012e-01   2.08181789e-01   8.39842956e-01   6.07376016e-01\n",
      "    1.36308792e-01   5.71394060e-01   2.34961953e-01   7.32664113e-01\n",
      "    4.58929866e-01   2.99802486e-01   1.07144857e-01   8.54523415e-02\n",
      "    3.79873628e-01   6.77309159e-01   2.08181789e-01   8.74780819e-01\n",
      "    1.12194764e-01   3.71105893e-02   2.30444621e-01   5.78112549e-01\n",
      "    8.80381008e-02   4.38789988e-01   6.50478673e-01   2.52145211e-01\n",
      "    2.16244600e-02   7.72356638e-02   7.64956968e-01   1.06578734e-01\n",
      "    3.85229660e-01   6.33022282e-01   6.89918839e-02   1.92431836e-01\n",
      "    8.51755703e-02   4.59963761e-01   1.92163452e-01   7.52074841e-01\n",
      "    6.94810438e-01   3.74543331e-01   1.47020857e-01   1.28274033e-01\n",
      "    1.54904640e-01   8.83372143e-01   1.38714930e-01   1.01428183e-01\n",
      "    6.37514393e-02   4.74143535e-01   1.44318380e-01   3.32209243e-01\n",
      "    9.85223737e-01   1.12472244e-01   1.60139061e-01   2.66114644e-02\n",
      "   -2.41362640e-01   1.09304997e-01   2.65882719e-01   9.34799595e-01\n",
      "    6.65962224e-02  -1.44857067e-01   7.32175244e-01   1.01756702e+00\n",
      "    6.57625381e-01   6.82274953e-01   7.78507074e-01   3.06694232e-01\n",
      "    7.03120381e-01   1.47020857e-01  -5.35194672e-02   2.63450207e-01\n",
      "    8.45198988e-01   2.80865752e-01   2.88522280e-01   7.14342083e-01\n",
      "    7.98068552e-01   4.05781543e-01   1.00941736e-01   1.92789366e-01\n",
      "    1.12191979e-01   8.05473642e-01   4.10332423e-01  -6.55145848e-04\n",
      "    7.89310178e-01   7.38879084e-01   1.43673989e-01   1.49684208e-01\n",
      "    1.01479914e-01   8.33962978e-01   8.06527571e-01   7.46997500e-02\n",
      "    6.54965242e-01   2.67936850e-01   1.17831761e-01   6.75775470e-01\n",
      "    2.72454182e-01   9.99158265e-01   5.87835137e-01   4.84754956e-01\n",
      "    1.70739321e-01]]\n"
     ]
    }
   ],
   "source": [
    "import numpy as np\n",
    "\n",
    "#合并交叉验证后的三次数据预测结果\n",
    "predictions = np.concatenate([predictions], axis = 0)\n",
    "print(predictions[:20])\n",
    "\n"
   ]
  },
  {
   "cell_type": "code",
   "execution_count": 22,
   "metadata": {
    "collapsed": false,
    "scrolled": false
   },
   "outputs": [
    {
     "name": "stdout",
     "output_type": "stream",
     "text": [
      "<class 'list'>\n",
      "<class 'pandas.core.series.Series'>\n",
      "             precision    recall  f1-score   support\n",
      "\n",
      "          0       0.81      0.85      0.83       549\n",
      "          1       0.74      0.68      0.71       342\n",
      "\n",
      "avg / total       0.78      0.78      0.78       891\n",
      "\n"
     ]
    }
   ],
   "source": [
    "from sklearn.metrics import classification_report\n",
    "predictions[predictions > .5] = 1\n",
    "predictions[predictions <=.5] = 0\n",
    "predictions = [j for i in range(3) for j in predictions[i]]\n",
    "print(type(predictions))\n",
    "sur = titanic['Survived']\n",
    "print(type(sur))\n",
    "y_ture = sur.as_matrix()\n",
    "# print(type(y_ture))\n",
    "count = classification_report(y_ture,predictions,target_names=['0','1'])\n",
    "print(count)"
   ]
  },
  {
   "cell_type": "markdown",
   "metadata": {},
   "source": [
    "### 使用逻辑回归模型"
   ]
  },
  {
   "cell_type": "code",
   "execution_count": 23,
   "metadata": {
    "collapsed": false
   },
   "outputs": [
    {
     "name": "stdout",
     "output_type": "stream",
     "text": [
      "0.787878787879\n",
      "<class 'pandas.core.frame.DataFrame'>\n"
     ]
    }
   ],
   "source": [
    "#导入逻辑回归\n",
    "from sklearn.linear_model import LogisticRegression\n",
    "from sklearn import cross_validation\n",
    "lg = LogisticRegression()\n",
    "\n",
    "scores = cross_validation.cross_val_score(lg, titanic[predictors], titanic['Survived'], cv = 3)\n",
    "print(scores.mean())\n",
    "print(type(titanic[predictors]))"
   ]
  },
  {
   "cell_type": "markdown",
   "metadata": {},
   "source": [
    "### 使用随机森林分类器"
   ]
  },
  {
   "cell_type": "code",
   "execution_count": 17,
   "metadata": {
    "collapsed": false
   },
   "outputs": [
    {
     "name": "stdout",
     "output_type": "stream",
     "text": [
      "0.787878787879\n"
     ]
    }
   ],
   "source": [
    "#导入随机森林分类器\n",
    "from sklearn.ensemble import RandomForestClassifier\n",
    "predictors = [\"Pclass\", \"Sex\", \"Age\", \"SibSp\", \"Parch\", \"Fare\", \"Embarked\"]\n",
    "#初始化随机森林数，并设置参数\n",
    "alg = RandomForestClassifier(min_samples_split=2, min_samples_leaf=1,random_state=1)\n",
    "#初始化交叉验证模块，设置交叉验证参数\n",
    "kf = cross_validation.KFold(titanic.shape[0],n_folds=3,random_state=1)\n",
    "#开始训练模型，并得出分数\n",
    "score = cross_validation.cross_val_score(alg,titanic[predictors],titanic['Survived'],cv = kf)\n",
    "print(scores.mean())"
   ]
  },
  {
   "cell_type": "code",
   "execution_count": 18,
   "metadata": {
    "collapsed": false
   },
   "outputs": [
    {
     "name": "stdout",
     "output_type": "stream",
     "text": [
      "0.814814814815\n"
     ]
    }
   ],
   "source": [
    "#改变随机森林数 参数-->数的数量-->100\n",
    "alg = RandomForestClassifier(random_state=1, n_estimators=100, min_samples_split=4, min_samples_leaf=2)\n",
    "kf = cross_validation.KFold(titanic.shape[0], 3, random_state=1)\n",
    "scores = cross_validation.cross_val_score(alg, titanic[predictors], titanic[\"Survived\"], cv=kf)\n",
    "\n",
    "print(scores.mean())"
   ]
  },
  {
   "cell_type": "code",
   "execution_count": 19,
   "metadata": {
    "collapsed": true
   },
   "outputs": [],
   "source": [
    "#进一步数据处理\n",
    "titanic[\"FamilySize\"] = titanic[\"SibSp\"] + titanic[\"Parch\"]\n",
    "\n",
    "titanic[\"NameLength\"] = titanic[\"Name\"].apply(lambda x: len(x))"
   ]
  },
  {
   "cell_type": "code",
   "execution_count": 20,
   "metadata": {
    "collapsed": false
   },
   "outputs": [
    {
     "name": "stdout",
     "output_type": "stream",
     "text": [
      "Mr          517\n",
      "Miss        182\n",
      "Mrs         125\n",
      "Master       40\n",
      "Dr            7\n",
      "Rev           6\n",
      "Mlle          2\n",
      "Major         2\n",
      "Col           2\n",
      "Jonkheer      1\n",
      "Lady          1\n",
      "Mme           1\n",
      "Capt          1\n",
      "Ms            1\n",
      "Sir           1\n",
      "Countess      1\n",
      "Don           1\n",
      "Name: Name, dtype: int64\n",
      "1     517\n",
      "2     183\n",
      "3     125\n",
      "4      40\n",
      "5       7\n",
      "6       6\n",
      "7       5\n",
      "10      3\n",
      "8       3\n",
      "9       2\n",
      "Name: Name, dtype: int64\n"
     ]
    }
   ],
   "source": [
    "import re\n",
    "\n",
    "# A function to get the title from a name.\n",
    "def get_title(name):\n",
    "    # Use a regular expression to search for a title.  Titles always consist of capital and lowercase letters, and end with a period.\n",
    "    title_search = re.search(' ([A-Za-z]+)\\.', name)\n",
    "    # If the title exists, extract and return it.\n",
    "    if title_search:\n",
    "        return title_search.group(1)\n",
    "    return \"\"\n",
    "\n",
    "# Get all the titles and print how often each one occurs.\n",
    "titles = titanic[\"Name\"].apply(get_title)\n",
    "print(pd.value_counts(titles))\n",
    "\n",
    "# Map each title to an integer.  Some titles are very rare, and are compressed into the same codes as other titles.\n",
    "title_mapping = {\"Mr\": 1, \"Miss\": 2, \"Mrs\": 3, \"Master\": 4, \"Dr\": 5, \"Rev\": 6, \"Major\": 7, \"Col\": 7, \"Mlle\": 8, \"Mme\": 8, \"Don\": 9, \"Lady\": 10, \"Countess\": 10, \"Jonkheer\": 10, \"Sir\": 9, \"Capt\": 7, \"Ms\": 2}\n",
    "for k,v in title_mapping.items():\n",
    "    titles[titles == k] = v\n",
    "\n",
    "# Verify that we converted everything.\n",
    "print(pd.value_counts(titles))\n",
    "\n",
    "# Add in the title column.\n",
    "titanic[\"Title\"] = titles"
   ]
  },
  {
   "cell_type": "code",
   "execution_count": 21,
   "metadata": {
    "collapsed": false
   },
   "outputs": [
    {
     "data": {
      "image/png": "[encoded data removed]",
      "text/plain": [
       "<matplotlib.figure.Figure at 0x1f8489dbc18>"
      ]
     },
     "metadata": {},
     "output_type": "display_data"
    }
   ],
   "source": [
    "import numpy as np\n",
    "from sklearn.feature_selection import SelectKBest, f_classif\n",
    "import matplotlib.pyplot as plt\n",
    "predictors = [\"Pclass\", \"Sex\", \"Age\", \"SibSp\", \"Parch\", \"Fare\", \"Embarked\", \"FamilySize\", \"NameLength\",'Title']\n",
    "\n",
    "# Perform feature selection\n",
    "selector = SelectKBest(f_classif, k=5)\n",
    "selector.fit(titanic[predictors], titanic[\"Survived\"])\n",
    "\n",
    "# Get the raw p-values for each feature, and transform from p-values into scores\n",
    "scores = -np.log10(selector.pvalues_)\n",
    "\n",
    "# Plot the scores.  See how \"Pclass\", \"Sex\", \"Title\", and \"Fare\" are the best?\n",
    "plt.bar(range(len(predictors)), scores)\n",
    "plt.xticks(range(len(predictors)), predictors, rotation='vertical')\n",
    "plt.show()\n",
    "\n"
   ]
  },
  {
   "cell_type": "code",
   "execution_count": 22,
   "metadata": {
    "collapsed": true
   },
   "outputs": [],
   "source": [
    "# 选取最重要的五个特征\n",
    "new_predictors = ['Pclass', 'Sex', 'Fare','Title','NameLength','Age','Embarked']"
   ]
  },
  {
   "cell_type": "code",
   "execution_count": 23,
   "metadata": {
    "collapsed": true
   },
   "outputs": [],
   "source": [
    "def scores_k(k):\n",
    "    #改变随机森林数 参数-->数的数量-->k\n",
    "    alg = RandomForestClassifier(random_state=1, n_estimators=k, min_samples_split=4, min_samples_leaf=2)\n",
    "    kf = cross_validation.KFold(titanic.shape[0], 3, random_state=1)\n",
    "    scores = cross_validation.cross_val_score(alg, titanic[new_predictors], titanic[\"Survived\"], cv=kf)\n",
    "    return scores.mean()"
   ]
  },
  {
   "cell_type": "code",
   "execution_count": 24,
   "metadata": {
    "collapsed": true
   },
   "outputs": [
    {
     "name": "stdout",
     "output_type": "stream",
     "text": [
      "0.817059483726\n",
      "0.811447811448\n",
      "0.820426487093\n",
      "0.820426487093\n",
      "0.827160493827\n",
      "0.822671156004\n",
      "0.826038159371\n",
      "0.822671156004\n",
      "0.820426487093\n",
      "0.822671156004\n",
      "0.820426487093\n",
      "0.821548821549\n",
      "0.822671156004\n",
      "0.818181818182\n",
      "0.821548821549\n",
      "0.822671156004\n",
      "0.82379349046\n",
      "0.827160493827\n",
      "0.824915824916\n",
      "0.822671156004\n",
      "0.826038159371\n",
      "0.819304152637\n",
      "0.824915824916\n",
      "0.822671156004\n",
      "0.82379349046\n",
      "0.827160493827\n",
      "0.827160493827\n",
      "0.827160493827\n",
      "0.829405162738\n",
      "0.829405162738\n",
      "0.824915824916\n",
      "0.82379349046\n",
      "0.830527497194\n",
      "0.829405162738\n",
      "0.83164983165\n",
      "0.832772166105\n",
      "0.832772166105\n",
      "0.83164983165\n",
      "0.832772166105\n",
      "0.833894500561\n",
      "0.83164983165\n",
      "0.83164983165\n",
      "0.832772166105\n",
      "0.832772166105\n",
      "0.830527497194\n",
      "0.83164983165\n",
      "0.835016835017\n",
      "0.830527497194\n",
      "0.83164983165\n",
      "0.833894500561\n",
      "0.833894500561\n",
      "0.835016835017\n",
      "0.836139169473\n",
      "0.83950617284\n",
      "0.837261503928\n",
      "0.840628507295\n",
      "0.83950617284\n",
      "0.83950617284\n",
      "0.835016835017\n",
      "0.833894500561\n",
      "0.832772166105\n",
      "0.833894500561\n",
      "0.833894500561\n",
      "0.837261503928\n",
      "0.841750841751\n",
      "0.840628507295\n",
      "0.840628507295\n",
      "0.83950617284\n",
      "0.843995510662\n",
      "0.840628507295\n",
      "0.838383838384\n",
      "0.837261503928\n",
      "0.838383838384\n",
      "0.838383838384\n",
      "0.837261503928\n",
      "0.838383838384\n",
      "0.837261503928\n",
      "0.836139169473\n",
      "0.835016835017\n",
      "0.836139169473\n",
      "0.837261503928\n",
      "0.836139169473\n",
      "0.836139169473\n",
      "0.833894500561\n",
      "0.833894500561\n",
      "0.837261503928\n",
      "0.836139169473\n",
      "0.835016835017\n",
      "0.833894500561\n",
      "0.836139169473\n",
      "0.832772166105\n",
      "0.837261503928\n",
      "0.836139169473\n",
      "0.837261503928\n",
      "0.835016835017\n",
      "0.833894500561\n",
      "0.833894500561\n",
      "0.832772166105\n",
      "0.835016835017\n",
      "0.833894500561\n",
      "0.83164983165\n",
      "0.832772166105\n",
      "0.830527497194\n",
      "0.829405162738\n",
      "0.829405162738\n",
      "0.833894500561\n",
      "0.830527497194\n",
      "0.830527497194\n",
      "0.832772166105\n",
      "0.832772166105\n",
      "0.83164983165\n",
      "0.832772166105\n",
      "0.83164983165\n",
      "0.83164983165\n",
      "0.832772166105\n",
      "0.830527497194\n",
      "0.83164983165\n",
      "0.830527497194\n"
     ]
    }
   ],
   "source": [
    "list_scorces = []\n",
    "for i in range(2,120):\n",
    "    re_scorces = scores_k(i)\n",
    "    print(re_scorces)\n",
    "    list_scorces.append(re_scorces)  \n"
   ]
  },
  {
   "cell_type": "code",
   "execution_count": 25,
   "metadata": {
    "collapsed": false
   },
   "outputs": [
    {
     "name": "stdout",
     "output_type": "stream",
     "text": [
      "118\n",
      "118\n"
     ]
    },
    {
     "data": {
      "text/plain": [
       "<matplotlib.text.Text at 0x1f849c87828>"
      ]
     },
     "execution_count": 25,
     "metadata": {},
     "output_type": "execute_result"
    },
    {
     "data": {
      "image/png": "[encoded data removed]",
      "text/plain": [
       "<matplotlib.figure.Figure at 0x1f848c32898>"
      ]
     },
     "metadata": {},
     "output_type": "display_data"
    }
   ],
   "source": [
    "#画散点图，查看趋势\n",
    "%matplotlib inline\n",
    "import matplotlib.pyplot as plt\n",
    "print(len(list_scorces))\n",
    "k = range(2,120)\n",
    "print(len(k))\n",
    "plt.scatter(k,list_scorces,s=8.0)\n",
    "plt.title('Useing Raw data model')\n"
   ]
  },
  {
   "cell_type": "code",
   "execution_count": 26,
   "metadata": {
    "collapsed": false
   },
   "outputs": [
    {
     "name": "stdout",
     "output_type": "stream",
     "text": [
      "最优得分： 0.843995510662\n",
      "最大决策树数： 70\n"
     ]
    }
   ],
   "source": [
    "max_index = list_scorces.index(max(list_scorces))\n",
    "print('最优得分：',max(list_scorces))\n",
    "print('最大决策树数：',max_index+2)"
   ]
  },
  {
   "cell_type": "markdown",
   "metadata": {},
   "source": [
    "#### 梯度上升法"
   ]
  },
  {
   "cell_type": "code",
   "execution_count": 27,
   "metadata": {
    "collapsed": false
   },
   "outputs": [
    {
     "name": "stdout",
     "output_type": "stream",
     "text": [
      "0    415\n",
      "1    253\n",
      "Name: Survived, dtype: int64\n",
      "0    134\n",
      "1     89\n",
      "Name: Survived, dtype: int64\n"
     ]
    }
   ],
   "source": [
    "#切分数据\n",
    "from sklearn.cross_validation import train_test_split\n",
    "X_train, X_test, y_train, y_test = train_test_split(titanic[new_predictors], titanic[\"Survived\"], test_size=0.25, random_state=33)\n",
    "\n",
    "#查看数据\n",
    "print(y_train.value_counts())\n",
    "print(y_test.value_counts())"
   ]
  },
  {
   "cell_type": "code",
   "execution_count": 28,
   "metadata": {
    "collapsed": true
   },
   "outputs": [],
   "source": [
    "# 使用梯度提升决策树预测分析\n",
    "from sklearn.ensemble import GradientBoostingClassifier\n",
    "# X_train = titanic[new_predictors]\n",
    "# y_train = titanic[\"Survived\"]\n",
    "# X_test = titanic[new_predictors]\n",
    "# y_test = titanic[\"Survived\"]\n",
    "gbc = GradientBoostingClassifier(learning_rate=0.1)\n",
    "gbc.fit(X_train, y_train)\n",
    "gbc_y_pred = gbc.predict(X_test)"
   ]
  },
  {
   "cell_type": "code",
   "execution_count": 29,
   "metadata": {
    "collapsed": false
   },
   "outputs": [
    {
     "name": "stdout",
     "output_type": "stream",
     "text": [
      "使用梯度提升模型： 0.865470852018\n",
      "             precision    recall  f1-score   support\n",
      "\n",
      "       died       0.93      0.86      0.89       146\n",
      "   survived       0.76      0.88      0.82        77\n",
      "\n",
      "avg / total       0.87      0.87      0.87       223\n",
      "\n"
     ]
    }
   ],
   "source": [
    "#导入classification_report。\n",
    "from sklearn.metrics import classification_report\n",
    "\n",
    "# 输出预测准确性。\n",
    "print ('使用梯度提升模型：',gbc.score(X_test, y_test))\n",
    "# 输出混淆矩阵\n",
    "print (classification_report(gbc_y_pred, y_test, target_names = ['died', 'survived']))\n"
   ]
  },
  {
   "cell_type": "markdown",
   "metadata": {
    "collapsed": true
   },
   "source": [
    "### 最终\n",
    "    线性回归<逻辑回归<决策树<随机森林< GradientBoostingClassifier（梯度提升）"
   ]
  },
  {
   "cell_type": "code",
   "execution_count": null,
   "metadata": {
    "collapsed": true
   },
   "outputs": [],
   "source": []
  }
 ],
 "metadata": {
  "kernelspec": {
   "display_name": "Python 3",
   "language": "python",
   "name": "python3"
  },
  "language_info": {
   "codemirror_mode": {
    "name": "ipython",
    "version": 3
   },
   "file_extension": ".py",
   "mimetype": "text/x-python",
   "name": "python",
   "nbconvert_exporter": "python",
   "pygments_lexer": "ipython3",
   "version": "3.6.0"
  }
 },
 "nbformat": 4,
 "nbformat_minor": 2
}
