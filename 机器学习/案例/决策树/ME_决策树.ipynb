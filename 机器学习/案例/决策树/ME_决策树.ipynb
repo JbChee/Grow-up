{
 "cells": [
  {
   "cell_type": "code",
   "execution_count": 1,
   "metadata": {
    "collapsed": true
   },
   "outputs": [],
   "source": [
    "%matplotlib inline\n",
    "import pandas as pd\n",
    "import matplotlib.pyplot as plt"
   ]
  },
  {
   "cell_type": "code",
   "execution_count": 2,
   "metadata": {
    "collapsed": false
   },
   "outputs": [
    {
     "name": "stdout",
     "output_type": "stream",
     "text": [
      "California housing dataset.\n",
      "\n",
      "The original database is available from StatLib\n",
      "\n",
      "    http://lib.stat.cmu.edu/\n",
      "\n",
      "The data contains 20,640 observations on 9 variables.\n",
      "\n",
      "This dataset contains the average house value as target variable\n",
      "and the following input variables (features): average income,\n",
      "housing average age, average rooms, average bedrooms, population,\n",
      "average occupation, latitude, and longitude in that order.\n",
      "\n",
      "References\n",
      "----------\n",
      "\n",
      "Pace, R. Kelley and Ronald Barry, Sparse Spatial Autoregressions,\n",
      "Statistics and Probability Letters, 33 (1997) 291-297.\n",
      "\n",
      "\n"
     ]
    }
   ],
   "source": [
    "from sklearn.datasets.california_housing import fetch_california_housing\n",
    "housing = fetch_california_housing()\n",
    "print(housing.DESCR)"
   ]
  },
  {
   "cell_type": "code",
   "execution_count": 3,
   "metadata": {
    "collapsed": false
   },
   "outputs": [
    {
     "data": {
      "text/plain": [
       "(20640, 8)"
      ]
     },
     "execution_count": 3,
     "metadata": {},
     "output_type": "execute_result"
    }
   ],
   "source": [
    "housing.data.shape"
   ]
  },
  {
   "cell_type": "code",
   "execution_count": 5,
   "metadata": {
    "collapsed": false
   },
   "outputs": [
    {
     "data": {
      "text/plain": [
       "array([[  8.32520000e+00,   4.10000000e+01,   6.98412698e+00,\n",
       "          1.02380952e+00,   3.22000000e+02,   2.55555556e+00,\n",
       "          3.78800000e+01,  -1.22230000e+02],\n",
       "       [  8.30140000e+00,   2.10000000e+01,   6.23813708e+00,\n",
       "          9.71880492e-01,   2.40100000e+03,   2.10984183e+00,\n",
       "          3.78600000e+01,  -1.22220000e+02],\n",
       "       [  7.25740000e+00,   5.20000000e+01,   8.28813559e+00,\n",
       "          1.07344633e+00,   4.96000000e+02,   2.80225989e+00,\n",
       "          3.78500000e+01,  -1.22240000e+02],\n",
       "       [  5.64310000e+00,   5.20000000e+01,   5.81735160e+00,\n",
       "          1.07305936e+00,   5.58000000e+02,   2.54794521e+00,\n",
       "          3.78500000e+01,  -1.22250000e+02],\n",
       "       [  3.84620000e+00,   5.20000000e+01,   6.28185328e+00,\n",
       "          1.08108108e+00,   5.65000000e+02,   2.18146718e+00,\n",
       "          3.78500000e+01,  -1.22250000e+02],\n",
       "       [  4.03680000e+00,   5.20000000e+01,   4.76165803e+00,\n",
       "          1.10362694e+00,   4.13000000e+02,   2.13989637e+00,\n",
       "          3.78500000e+01,  -1.22250000e+02],\n",
       "       [  3.65910000e+00,   5.20000000e+01,   4.93190661e+00,\n",
       "          9.51361868e-01,   1.09400000e+03,   2.12840467e+00,\n",
       "          3.78400000e+01,  -1.22250000e+02],\n",
       "       [  3.12000000e+00,   5.20000000e+01,   4.79752705e+00,\n",
       "          1.06182380e+00,   1.15700000e+03,   1.78825348e+00,\n",
       "          3.78400000e+01,  -1.22250000e+02],\n",
       "       [  2.08040000e+00,   4.20000000e+01,   4.29411765e+00,\n",
       "          1.11764706e+00,   1.20600000e+03,   2.02689076e+00,\n",
       "          3.78400000e+01,  -1.22260000e+02],\n",
       "       [  3.69120000e+00,   5.20000000e+01,   4.97058824e+00,\n",
       "          9.90196078e-01,   1.55100000e+03,   2.17226891e+00,\n",
       "          3.78400000e+01,  -1.22250000e+02]])"
      ]
     },
     "execution_count": 5,
     "metadata": {},
     "output_type": "execute_result"
    }
   ],
   "source": [
    "housing.data[0:10,:]"
   ]
  },
  {
   "cell_type": "code",
   "execution_count": 23,
   "metadata": {
    "collapsed": false
   },
   "outputs": [
    {
     "data": {
      "text/plain": [
       "DecisionTreeRegressor(criterion='mse', max_depth=None, max_features=None,\n",
       "           max_leaf_nodes=None, min_impurity_split=1e-07,\n",
       "           min_samples_leaf=2, min_samples_split=2,\n",
       "           min_weight_fraction_leaf=0.0, presort=False, random_state=None,\n",
       "           splitter='best')"
      ]
     },
     "execution_count": 23,
     "metadata": {},
     "output_type": "execute_result"
    }
   ],
   "source": [
    "#导入决策树模型\n",
    "from sklearn import tree\n",
    "dtr = tree.DecisionTreeRegressor(min_samples_leaf=2)\n",
    "dtr.fit(housing.data[:,[6,7]],housing.target)"
   ]
  },
  {
   "cell_type": "code",
   "execution_count": 24,
   "metadata": {
    "collapsed": false
   },
   "outputs": [
    {
     "data": {
      "text/plain": [
       "0.637318351331017"
      ]
     },
     "execution_count": 24,
     "metadata": {},
     "output_type": "execute_result"
    }
   ],
   "source": [
    "#切分数据\n",
    "from sklearn.model_selection import train_test_split\n",
    "data_train, data_test, target_train, target_test = \\\n",
    "    train_test_split(housing.data, housing.target, test_size = 0.1, random_state = 42)\n",
    "dtr = tree.DecisionTreeRegressor(random_state = 42)\n",
    "dtr.fit(data_train, target_train)\n",
    "\n",
    "dtr.score(data_test, target_test)"
   ]
  },
  {
   "cell_type": "code",
   "execution_count": 28,
   "metadata": {
    "collapsed": false
   },
   "outputs": [
    {
     "data": {
      "text/plain": [
       "0.79086492280964926"
      ]
     },
     "execution_count": 28,
     "metadata": {},
     "output_type": "execute_result"
    }
   ],
   "source": [
    "#使用随机森林树\n",
    "from sklearn.ensemble import RandomForestRegressor\n",
    "rfr = RandomForestRegressor(random_state = 42)\n",
    "rfr.fit(data_train,target_train)\n",
    "rfr.score(data_test,target_test)"
   ]
  },
  {
   "cell_type": "code",
   "execution_count": 31,
   "metadata": {
    "collapsed": false
   },
   "outputs": [
    {
     "data": {
      "text/plain": [
       "([mean: 0.78578, std: 0.00514, params: {'min_samples_split': 2, 'n_estimators': 10},\n",
       "  mean: 0.80427, std: 0.00389, params: {'min_samples_split': 2, 'n_estimators': 50},\n",
       "  mean: 0.80796, std: 0.00400, params: {'min_samples_split': 2, 'n_estimators': 100},\n",
       "  mean: 0.78991, std: 0.00399, params: {'min_samples_split': 3, 'n_estimators': 10},\n",
       "  mean: 0.80480, std: 0.00388, params: {'min_samples_split': 3, 'n_estimators': 50},\n",
       "  mean: 0.80770, std: 0.00345, params: {'min_samples_split': 3, 'n_estimators': 100},\n",
       "  mean: 0.78877, std: 0.00269, params: {'min_samples_split': 6, 'n_estimators': 10},\n",
       "  mean: 0.80422, std: 0.00439, params: {'min_samples_split': 6, 'n_estimators': 50},\n",
       "  mean: 0.80696, std: 0.00372, params: {'min_samples_split': 6, 'n_estimators': 100}],\n",
       " {'min_samples_split': 2, 'n_estimators': 100},\n",
       " 0.8079580802142399)"
      ]
     },
     "execution_count": 31,
     "metadata": {},
     "output_type": "execute_result"
    }
   ],
   "source": [
    "#导入调参模型 \n",
    "from sklearn.grid_search import GridSearchCV\n",
    "tree_param_grid = { 'min_samples_split': list((2,3,6)),'n_estimators':list((10,50,100))}\n",
    "grid = GridSearchCV(RandomForestRegressor(),param_grid=tree_param_grid, cv=5)\n",
    "grid.fit(data_train, target_train)\n",
    "\n",
    "grid.grid_scores_, grid.best_params_, grid.best_score_"
   ]
  },
  {
   "cell_type": "code",
   "execution_count": 30,
   "metadata": {
    "collapsed": false
   },
   "outputs": [
    {
     "data": {
      "text/plain": [
       "0.80908290496531576"
      ]
     },
     "execution_count": 30,
     "metadata": {},
     "output_type": "execute_result"
    }
   ],
   "source": [
    "rfr = RandomForestRegressor( min_samples_split=3,n_estimators = 100,random_state = 42)\n",
    "rfr.fit(data_train, target_train)\n",
    "rfr.score(data_test, target_test)"
   ]
  },
  {
   "cell_type": "code",
   "execution_count": null,
   "metadata": {
    "collapsed": true
   },
   "outputs": [],
   "source": []
  }
 ],
 "metadata": {
  "kernelspec": {
   "display_name": "Python 3",
   "language": "python",
   "name": "python3"
  },
  "language_info": {
   "codemirror_mode": {
    "name": "ipython",
    "version": 3
   },
   "file_extension": ".py",
   "mimetype": "text/x-python",
   "name": "python",
   "nbconvert_exporter": "python",
   "pygments_lexer": "ipython3",
   "version": "3.6.0"
  }
 },
 "nbformat": 4,
 "nbformat_minor": 2
}
